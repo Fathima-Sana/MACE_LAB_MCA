{
  "nbformat": 4,
  "nbformat_minor": 0,
  "metadata": {
    "colab": {
      "provenance": []
    },
    "kernelspec": {
      "name": "python3",
      "display_name": "Python 3"
    },
    "language_info": {
      "name": "python"
    }
  },
  "cells": [
    {
      "cell_type": "code",
      "source": [
        "import pandas as pd\n",
        "import numpy as np\n",
        "from sklearn.model_selection import train_test_split"
      ],
      "metadata": {
        "id": "P0BDf7v2wLjL"
      },
      "execution_count": 1,
      "outputs": []
    },
    {
      "cell_type": "code",
      "source": [
        "iris_df = pd.read_csv('iris.csv')"
      ],
      "metadata": {
        "id": "dyVoVv_qw1ur"
      },
      "execution_count": 2,
      "outputs": []
    },
    {
      "cell_type": "code",
      "source": [
        "X = iris_df[['sepal.length', 'sepal.width', 'petal.length', 'petal.width']].values\n",
        "y = iris_df['variety'].values"
      ],
      "metadata": {
        "id": "7PyZuEpUxD1m"
      },
      "execution_count": 3,
      "outputs": []
    },
    {
      "cell_type": "code",
      "source": [
        "X_train, X_test, y_train, y_test = train_test_split(X, y, test_size=0.3, random_state=42)"
      ],
      "metadata": {
        "id": "yECYcDkvxJse"
      },
      "execution_count": 4,
      "outputs": []
    },
    {
      "cell_type": "code",
      "source": [
        "def knn_predict(X_train, y_train, X_test, k):\n",
        "    predictions = []\n",
        "\n",
        "    for test_sample in X_test:\n",
        "        distances = [np.sqrt(np.sum((train_sample - test_sample) ** 2)) for train_sample in X_train]\n",
        "        k_indices = np.argsort(distances)[:k]\n",
        "        k_nearest_labels = [y_train[i] for i in k_indices]\n",
        "        class_counts = {}\n",
        "        for label in k_nearest_labels:\n",
        "            if label in class_counts:\n",
        "                class_counts[label] += 1\n",
        "            else:\n",
        "                class_counts[label] = 1\n",
        "\n",
        "        most_common = max(class_counts, key=class_counts.get)\n",
        "        predictions.append(most_common)\n",
        "\n",
        "    return predictions\n"
      ],
      "metadata": {
        "id": "NC118ssDxMZk"
      },
      "execution_count": 5,
      "outputs": []
    },
    {
      "cell_type": "code",
      "source": [
        "k = int(np.sqrt(len(X)))\n",
        "y_pred = knn_predict(X_train, y_train, X_test, k)"
      ],
      "metadata": {
        "id": "sZI0tiW4xWdy"
      },
      "execution_count": 6,
      "outputs": []
    },
    {
      "cell_type": "code",
      "source": [
        "correct = sum(np.array(y_pred) == np.array(y_test))\n",
        "accuracy = (correct / len(y_test))*100\n",
        "print(\"Accuracy:\", accuracy)"
      ],
      "metadata": {
        "colab": {
          "base_uri": "https://localhost:8080/"
        },
        "id": "-OD-oopRxi4g",
        "outputId": "9a4518dd-f0a4-48a5-e5d5-797acc3112ee"
      },
      "execution_count": 7,
      "outputs": [
        {
          "output_type": "stream",
          "name": "stdout",
          "text": [
            "Accuracy: 100.0\n"
          ]
        }
      ]
    },
    {
      "cell_type": "code",
      "source": [
        "new_data_point = [[5.5, 2.5, 4, 1.5]]"
      ],
      "metadata": {
        "id": "YIUaBshKxywH"
      },
      "execution_count": null,
      "outputs": []
    },
    {
      "cell_type": "code",
      "source": [
        "new_data_prediction = knn_predict(X_train, y_train, new_data_point, k)"
      ],
      "metadata": {
        "id": "QZbxTvRQyXnN"
      },
      "execution_count": null,
      "outputs": []
    },
    {
      "cell_type": "code",
      "source": [
        "print(\"Predicted class:\", new_data_prediction[0])"
      ],
      "metadata": {
        "colab": {
          "base_uri": "https://localhost:8080/"
        },
        "id": "9hbzdYaEyaN0",
        "outputId": "f40f7872-5fff-49c0-cc9f-2b3ad230d92e"
      },
      "execution_count": null,
      "outputs": [
        {
          "output_type": "stream",
          "name": "stdout",
          "text": [
            "Predicted class: Versicolor\n"
          ]
        }
      ]
    },
    {
      "cell_type": "code",
      "source": [],
      "metadata": {
        "id": "vEVcNhutyqlZ"
      },
      "execution_count": null,
      "outputs": []
    }
  ]
}