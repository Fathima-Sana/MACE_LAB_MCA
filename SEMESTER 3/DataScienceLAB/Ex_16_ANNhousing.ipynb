{
  "nbformat": 4,
  "nbformat_minor": 0,
  "metadata": {
    "colab": {
      "provenance": []
    },
    "kernelspec": {
      "name": "python3",
      "display_name": "Python 3"
    },
    "language_info": {
      "name": "python"
    }
  },
  "cells": [
    {
      "cell_type": "code",
      "source": [
        "import numpy as np\n",
        "import pandas as pd\n",
        "from sklearn.model_selection import train_test_split\n",
        "from sklearn.preprocessing import StandardScaler, OneHotEncoder\n",
        "from sklearn.compose import ColumnTransformer\n",
        "from sklearn.pipeline import Pipeline\n",
        "from keras.models import Sequential\n",
        "from keras.layers import Dense\n",
        "from sklearn.metrics import mean_squared_error\n",
        "\n",
        "# Sample data\n",
        "df = pd.read_csv('Housing (1).csv')\n",
        "\n",
        "# Separate features and target variable\n",
        "X = df.drop('price', axis=1)\n",
        "y = df['price']\n",
        "\n",
        "# Split numerical and categorical features\n",
        "numerical_features = X.select_dtypes(include=['int64']).columns\n",
        "categorical_features = X.select_dtypes(include=['object']).columns\n",
        "\n",
        "# Build preprocessing pipeline\n",
        "numeric_transformer = StandardScaler()\n",
        "categorical_transformer = OneHotEncoder(drop='first', sparse=False)\n",
        "\n",
        "preprocessor = ColumnTransformer(\n",
        "    transformers=[\n",
        "        ('num', numeric_transformer, numerical_features),\n",
        "        ('cat', categorical_transformer, categorical_features)\n",
        "    ])\n",
        "\n",
        "# Apply transformations to numerical and categorical features\n",
        "X = preprocessor.fit_transform(X)\n",
        "\n",
        "# Split into training and testing sets\n",
        "X_train, X_test, y_train, y_test = train_test_split(X, y, test_size=0.2, random_state=42)\n",
        "\n",
        "# Build the neural network model\n",
        "model = Sequential()\n",
        "model.add(Dense(64, input_dim=X_train.shape[1], activation='relu'))\n",
        "model.add(Dense(32, activation='relu'))\n",
        "model.add(Dense(1, activation='linear'))\n",
        "\n",
        "# Compile the model\n",
        "model.compile(optimizer='adam', loss='mean_squared_error')\n",
        "\n",
        "# Train the model\n",
        "model.fit(X_train, y_train, epochs=50, batch_size=32, validation_split=0.2)\n",
        "\n",
        "# Evaluate the model on the test set\n",
        "y_pred = model.predict(X_test)\n",
        "mse = mean_squared_error(y_test, y_pred)\n",
        "print(f'Mean Squared Error on Test Set: {mse}')\n"
      ],
      "metadata": {
        "colab": {
          "base_uri": "https://localhost:8080/"
        },
        "id": "QynloGcyo8Uh",
        "outputId": "388a6ca1-f686-46aa-c0f3-2caa7cc93d59"
      },
      "execution_count": null,
      "outputs": [
        {
          "output_type": "stream",
          "name": "stderr",
          "text": [
            "/usr/local/lib/python3.10/dist-packages/sklearn/preprocessing/_encoders.py:868: FutureWarning: `sparse` was renamed to `sparse_output` in version 1.2 and will be removed in 1.4. `sparse_output` is ignored unless you leave `sparse` to its default value.\n",
            "  warnings.warn(\n"
          ]
        },
        {
          "output_type": "stream",
          "name": "stdout",
          "text": [
            "Epoch 1/50\n",
            "11/11 [==============================] - 1s 29ms/step - loss: 25349383520256.0000 - val_loss: 24781592199168.0000\n",
            "Epoch 2/50\n",
            "11/11 [==============================] - 0s 20ms/step - loss: 25349379325952.0000 - val_loss: 24781583810560.0000\n",
            "Epoch 3/50\n",
            "11/11 [==============================] - 0s 16ms/step - loss: 25349368840192.0000 - val_loss: 24781571227648.0000\n",
            "Epoch 4/50\n",
            "11/11 [==============================] - 0s 10ms/step - loss: 25349354160128.0000 - val_loss: 24781556547584.0000\n",
            "Epoch 5/50\n",
            "11/11 [==============================] - 0s 14ms/step - loss: 25349337382912.0000 - val_loss: 24781533478912.0000\n",
            "Epoch 6/50\n",
            "11/11 [==============================] - 0s 10ms/step - loss: 25349308022784.0000 - val_loss: 24781502021632.0000\n",
            "Epoch 7/50\n",
            "11/11 [==============================] - 0s 10ms/step - loss: 25349270274048.0000 - val_loss: 24781457981440.0000\n",
            "Epoch 8/50\n",
            "11/11 [==============================] - 0s 19ms/step - loss: 25349219942400.0000 - val_loss: 24781399261184.0000\n",
            "Epoch 9/50\n",
            "11/11 [==============================] - 0s 11ms/step - loss: 25349152833536.0000 - val_loss: 24781321666560.0000\n",
            "Epoch 10/50\n",
            "11/11 [==============================] - 0s 9ms/step - loss: 25349064753152.0000 - val_loss: 24781221003264.0000\n",
            "Epoch 11/50\n",
            "11/11 [==============================] - 0s 8ms/step - loss: 25348947312640.0000 - val_loss: 24781088882688.0000\n",
            "Epoch 12/50\n",
            "11/11 [==============================] - 0s 9ms/step - loss: 25348800512000.0000 - val_loss: 24780923207680.0000\n",
            "Epoch 13/50\n",
            "11/11 [==============================] - 0s 8ms/step - loss: 25348613865472.0000 - val_loss: 24780726075392.0000\n",
            "Epoch 14/50\n",
            "11/11 [==============================] - 0s 15ms/step - loss: 25348391567360.0000 - val_loss: 24780478611456.0000\n",
            "Epoch 15/50\n",
            "11/11 [==============================] - 0s 11ms/step - loss: 25348118937600.0000 - val_loss: 24780185010176.0000\n",
            "Epoch 16/50\n",
            "11/11 [==============================] - 0s 25ms/step - loss: 25347802267648.0000 - val_loss: 24779836882944.0000\n",
            "Epoch 17/50\n",
            "11/11 [==============================] - 0s 27ms/step - loss: 25347422683136.0000 - val_loss: 24779442618368.0000\n",
            "Epoch 18/50\n",
            "11/11 [==============================] - 0s 13ms/step - loss: 25346984378368.0000 - val_loss: 24778981244928.0000\n",
            "Epoch 19/50\n",
            "11/11 [==============================] - 0s 6ms/step - loss: 25346483159040.0000 - val_loss: 24778456956928.0000\n",
            "Epoch 20/50\n",
            "11/11 [==============================] - 0s 7ms/step - loss: 25345910636544.0000 - val_loss: 24777865560064.0000\n",
            "Epoch 21/50\n",
            "11/11 [==============================] - 0s 5ms/step - loss: 25345266810880.0000 - val_loss: 24777190277120.0000\n",
            "Epoch 22/50\n",
            "11/11 [==============================] - 0s 6ms/step - loss: 25344532807680.0000 - val_loss: 24776443691008.0000\n",
            "Epoch 23/50\n",
            "11/11 [==============================] - 0s 5ms/step - loss: 25343717015552.0000 - val_loss: 24775617413120.0000\n",
            "Epoch 24/50\n",
            "11/11 [==============================] - 0s 8ms/step - loss: 25342819434496.0000 - val_loss: 24774698860544.0000\n",
            "Epoch 25/50\n",
            "11/11 [==============================] - 0s 5ms/step - loss: 25341846355968.0000 - val_loss: 24773679644672.0000\n",
            "Epoch 26/50\n",
            "11/11 [==============================] - 0s 6ms/step - loss: 25340720185344.0000 - val_loss: 24772595417088.0000\n",
            "Epoch 27/50\n",
            "11/11 [==============================] - 0s 5ms/step - loss: 25339543683072.0000 - val_loss: 24771397943296.0000\n",
            "Epoch 28/50\n",
            "11/11 [==============================] - 0s 5ms/step - loss: 25338264420352.0000 - val_loss: 24770085126144.0000\n",
            "Epoch 29/50\n",
            "11/11 [==============================] - 0s 5ms/step - loss: 25336832065536.0000 - val_loss: 24768698908672.0000\n",
            "Epoch 30/50\n",
            "11/11 [==============================] - 0s 7ms/step - loss: 25335328407552.0000 - val_loss: 24767184764928.0000\n",
            "Epoch 31/50\n",
            "11/11 [==============================] - 0s 6ms/step - loss: 25333728280576.0000 - val_loss: 24765532209152.0000\n",
            "Epoch 32/50\n",
            "11/11 [==============================] - 0s 7ms/step - loss: 25331977158656.0000 - val_loss: 24763781087232.0000\n",
            "Epoch 33/50\n",
            "11/11 [==============================] - 0s 7ms/step - loss: 25330091819008.0000 - val_loss: 24761927204864.0000\n",
            "Epoch 34/50\n",
            "11/11 [==============================] - 0s 7ms/step - loss: 25328097427456.0000 - val_loss: 24759941201920.0000\n",
            "Epoch 35/50\n",
            "11/11 [==============================] - 0s 5ms/step - loss: 25325960429568.0000 - val_loss: 24757833564160.0000\n",
            "Epoch 36/50\n",
            "11/11 [==============================] - 0s 6ms/step - loss: 25323678728192.0000 - val_loss: 24755623165952.0000\n",
            "Epoch 37/50\n",
            "11/11 [==============================] - 0s 9ms/step - loss: 25321300557824.0000 - val_loss: 24753253384192.0000\n",
            "Epoch 38/50\n",
            "11/11 [==============================] - 0s 8ms/step - loss: 25318752518144.0000 - val_loss: 24750761967616.0000\n",
            "Epoch 39/50\n",
            "11/11 [==============================] - 0s 9ms/step - loss: 25316126883840.0000 - val_loss: 24748086001664.0000\n",
            "Epoch 40/50\n",
            "11/11 [==============================] - 0s 8ms/step - loss: 25313247494144.0000 - val_loss: 24745319858176.0000\n",
            "Epoch 41/50\n",
            "11/11 [==============================] - 0s 9ms/step - loss: 25310292606976.0000 - val_loss: 24742392233984.0000\n",
            "Epoch 42/50\n",
            "11/11 [==============================] - 0s 8ms/step - loss: 25307134296064.0000 - val_loss: 24739326197760.0000\n",
            "Epoch 43/50\n",
            "11/11 [==============================] - 0s 7ms/step - loss: 25303883710464.0000 - val_loss: 24736084000768.0000\n",
            "Epoch 44/50\n",
            "11/11 [==============================] - 0s 9ms/step - loss: 25300347912192.0000 - val_loss: 24732739043328.0000\n",
            "Epoch 45/50\n",
            "11/11 [==============================] - 0s 8ms/step - loss: 25296786948096.0000 - val_loss: 24729178079232.0000\n",
            "Epoch 46/50\n",
            "11/11 [==============================] - 0s 7ms/step - loss: 25292982714368.0000 - val_loss: 24725484994560.0000\n",
            "Epoch 47/50\n",
            "11/11 [==============================] - 0s 8ms/step - loss: 25289069428736.0000 - val_loss: 24721607360512.0000\n",
            "Epoch 48/50\n",
            "11/11 [==============================] - 0s 8ms/step - loss: 25284988370944.0000 - val_loss: 24717532594176.0000\n",
            "Epoch 49/50\n",
            "11/11 [==============================] - 0s 11ms/step - loss: 25280513048576.0000 - val_loss: 24713485090816.0000\n",
            "Epoch 50/50\n",
            "11/11 [==============================] - 0s 9ms/step - loss: 25276247441408.0000 - val_loss: 24709039128576.0000\n",
            "4/4 [==============================] - 0s 3ms/step\n",
            "Mean Squared Error on Test Set: 30044233787622.42\n"
          ]
        }
      ]
    },
    {
      "cell_type": "code",
      "source": [
        "import matplotlib.pyplot as plt\n",
        "\n",
        "plt.scatter(y_test, y_pred)\n",
        "plt.xlabel(\"Actual Prices\")\n",
        "plt.ylabel(\"Predicted Prices\")\n",
        "plt.title(\"Actual Prices vs. Predicted Prices\")\n",
        "plt.show()\n"
      ],
      "metadata": {
        "colab": {
          "base_uri": "https://localhost:8080/",
          "height": 472
        },
        "id": "aTjIGIPZpm2b",
        "outputId": "d29bc112-6371-403a-b1cf-619379b8a61f"
      },
      "execution_count": null,
      "outputs": [
        {
          "output_type": "display_data",
          "data": {
            "text/plain": [
              "<Figure size 640x480 with 1 Axes>"
            ],
            "image/png": "[encoded data removed]"
          },
          "metadata": {}
        }
      ]
    },
    {
      "cell_type": "code",
      "source": [
        "from sklearn.metrics import r2_score\n",
        "\n",
        "r2 = r2_score(y_test, y_pred)\n",
        "print(f'R-squared: {r2}')\n"
      ],
      "metadata": {
        "colab": {
          "base_uri": "https://localhost:8080/"
        },
        "id": "CTm1tHD0proH",
        "outputId": "e50636cf-5350-47d4-a724-1fbbe9f607ee"
      },
      "execution_count": null,
      "outputs": [
        {
          "output_type": "stream",
          "name": "stdout",
          "text": [
            "R-squared: -4.946891003231493\n"
          ]
        }
      ]
    },
    {
      "cell_type": "code",
      "source": [],
      "metadata": {
        "id": "jWW0kMu2qBmz"
      },
      "execution_count": null,
      "outputs": []
    }
  ]
}